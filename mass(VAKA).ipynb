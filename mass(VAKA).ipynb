{
 "cells": [
  {
   "cell_type": "code",
   "execution_count": 1,
   "id": "3b539444",
   "metadata": {},
   "outputs": [],
   "source": [
    "#setup library\n",
    "from pyopenms import *"
   ]
  },
  {
   "cell_type": "code",
   "execution_count": 13,
   "id": "45fcf929",
   "metadata": {},
   "outputs": [],
   "source": [
    "#creating vaka sequance \n",
    "\n",
    "seq=AASequence.fromString(\"VAKA\")"
   ]
  },
  {
   "cell_type": "code",
   "execution_count": 16,
   "id": "4e0b620f",
   "metadata": {},
   "outputs": [
    {
     "name": "stdout",
     "output_type": "stream",
     "text": [
      "441.2798662441\n"
     ]
    }
   ],
   "source": [
    "#geting seq mass each\n",
    "sum=0    \n",
    "\n",
    "for s in seq:    \n",
    "    sum+=s.getMonoWeight()\n",
    "    \n",
    "print(sum)    \n"
   ]
  },
  {
   "cell_type": "code",
   "execution_count": 17,
   "id": "3840ad62",
   "metadata": {},
   "outputs": [
    {
     "name": "stdout",
     "output_type": "stream",
     "text": [
      "387.2481710527\n"
     ]
    }
   ],
   "source": [
    "#the mass of the seq\n",
    "print(seq.getMonoWeight())"
   ]
  },
  {
   "cell_type": "code",
   "execution_count": null,
   "id": "50a3d7e7",
   "metadata": {},
   "outputs": [],
   "source": []
  },
  {
   "cell_type": "code",
   "execution_count": null,
   "id": "9437d0be",
   "metadata": {},
   "outputs": [],
   "source": []
  },
  {
   "cell_type": "code",
   "execution_count": null,
   "id": "a74478ab",
   "metadata": {},
   "outputs": [],
   "source": []
  }
 ],
 "metadata": {
  "kernelspec": {
   "display_name": "Python 3 (ipykernel)",
   "language": "python",
   "name": "python3"
  },
  "language_info": {
   "codemirror_mode": {
    "name": "ipython",
    "version": 3
   },
   "file_extension": ".py",
   "mimetype": "text/x-python",
   "name": "python",
   "nbconvert_exporter": "python",
   "pygments_lexer": "ipython3",
   "version": "3.9.13"
  }
 },
 "nbformat": 4,
 "nbformat_minor": 5
}
